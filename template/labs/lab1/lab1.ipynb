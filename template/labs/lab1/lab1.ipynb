{
 "cells": [
  {
   "cell_type": "code",
   "execution_count": 5,
   "id": "076ace1c-c6d9-4b8f-987d-c92400f374ec",
   "metadata": {},
   "outputs": [
    {
     "name": "stdout",
     "output_type": "stream",
     "text": [
      "Оригинальный текст: Hello, Julia!\n",
      "Зашифровано: Khoor, Mxold!\n",
      "Расшифровано: Hello, Julia!\n"
     ]
    }
   ],
   "source": [
    "# Функция шифрования Цезаря\n",
    "function caesar_encrypt(text::AbstractString, shift::Int)\n",
    "    result = \"\"\n",
    "    for c in text\n",
    "        if isletter(c)\n",
    "            base = isuppercase(c) ? 'A' : 'a'\n",
    "            new_char = Char(mod(Int(c) - Int(base) + shift, 26) + Int(base))\n",
    "            result *= string(new_char)\n",
    "        else\n",
    "            result *= string(c)\n",
    "        end\n",
    "    end\n",
    "    return result\n",
    "end\n",
    "\n",
    "# Функция дешифрования\n",
    "function caesar_decrypt(text::AbstractString, shift::Int)\n",
    "    return caesar_encrypt(text, -shift)\n",
    "end\n",
    "\n",
    "# Пример использования\n",
    "shift = 3  # Сдвиг на 3 символа\n",
    "original_text = \"Hello, Julia!\"\n",
    "encrypted = caesar_encrypt(original_text, shift)\n",
    "decrypted = caesar_decrypt(encrypted, shift)\n",
    "\n",
    "println(\"Оригинальный текст: $original_text\")\n",
    "println(\"Зашифровано: $encrypted\")\n",
    "println(\"Расшифровано: $decrypted\")"
   ]
  },
  {
   "cell_type": "code",
   "execution_count": 7,
   "id": "cb4fe1f1-409f-40f6-9efc-a6d4e840e5ae",
   "metadata": {},
   "outputs": [
    {
     "name": "stdout",
     "output_type": "stream",
     "text": [
      "Оригинальный текст: Hello, Julia!\n",
      "Зашифровано (Атбаш): Svool, Qforz!\n",
      "Расшифровано: Hello, Julia!\n"
     ]
    }
   ],
   "source": [
    "# Шифр Атбаш на Julia\n",
    "\n",
    "function atbash_cipher(text::AbstractString)\n",
    "    result = \"\"\n",
    "    for c in text\n",
    "        if isletter(c)\n",
    "            if isuppercase(c)\n",
    "                # Зеркалим относительно A-Z\n",
    "                new_char = Char(Int('Z') - (Int(c) - Int('A')))\n",
    "                result *= string(new_char)\n",
    "            else\n",
    "                # Зеркалим относительно a-z\n",
    "                new_char = Char(Int('z') - (Int(c) - Int('a')))\n",
    "                result *= string(new_char)\n",
    "            end\n",
    "        else\n",
    "            result *= string(c)  # Не буквы оставляем без изменений\n",
    "        end\n",
    "    end\n",
    "    return result\n",
    "end\n",
    "\n",
    "# Пример использования\n",
    "original_text = \"Hello, Julia!\"\n",
    "encrypted = atbash_cipher(original_text)  # Атбаш симметричен, повторное применение вернет исходный текст\n",
    "decrypted = atbash_cipher(encrypted)\n",
    "\n",
    "println(\"Оригинальный текст: $original_text\")\n",
    "println(\"Зашифровано (Атбаш): $encrypted\")\n",
    "println(\"Расшифровано: $decrypted\")\n"
   ]
  },
  {
   "cell_type": "code",
   "execution_count": null,
   "id": "d0b83a8b-5b8f-4115-a3c9-4bbc7d1f6ff8",
   "metadata": {},
   "outputs": [],
   "source": []
  }
 ],
 "metadata": {
  "kernelspec": {
   "display_name": "Julia 1.11.7",
   "language": "julia",
   "name": "julia-1.11"
  },
  "language_info": {
   "file_extension": ".jl",
   "mimetype": "application/julia",
   "name": "julia",
   "version": "1.11.7"
  }
 },
 "nbformat": 4,
 "nbformat_minor": 5
}
