{
 "cells": [
  {
   "cell_type": "code",
   "execution_count": 1,
   "id": "d0ef1dab-2a98-4725-9709-23be567da2ef",
   "metadata": {},
   "outputs": [
    {
     "data": {
      "text/plain": [
       "build_keystream (generic function with 1 method)"
      ]
     },
     "execution_count": 1,
     "metadata": {},
     "output_type": "execute_result"
    }
   ],
   "source": [
    "function build_keystream(data_len::Int, key::Vector{UInt8}; repeat_key::Bool=true)\n",
    "    if length(key) == 0\n",
    "        throw(ArgumentError(\"Ключ не может быть пустым!\"))\n",
    "    end\n",
    "    if length(key) >= data_len\n",
    "        return key[1:data_len]\n",
    "    elseif repeat_key\n",
    "        n = ceil(Integer, data_len / length(key))\n",
    "        replicated = repeat(key, n)\n",
    "        return replicated[1:data_len]\n",
    "    else\n",
    "        throw(ArgumentError(\"Ключ короче текста, а repeat_key=false\"))\n",
    "    end\n",
    "end"
   ]
  },
  {
   "cell_type": "code",
   "execution_count": 3,
   "id": "5bf6536a-da15-4405-b8f4-5c5580d9a168",
   "metadata": {},
   "outputs": [
    {
     "data": {
      "text/plain": [
       "encrypt_bytes (generic function with 1 method)"
      ]
     },
     "execution_count": 3,
     "metadata": {},
     "output_type": "execute_result"
    }
   ],
   "source": [
    "function encrypt_bytes(data::Vector{UInt8}, key::Vector{UInt8}; repeat_key::Bool=true)\n",
    "    ks = build_keystream(length(data), key; repeat_key=repeat_key)\n",
    "    return xor.(data, ks)\n",
    "end"
   ]
  },
  {
   "cell_type": "code",
   "execution_count": 5,
   "id": "17a68c3f-4921-47e5-bca9-0dcfc05cf05e",
   "metadata": {},
   "outputs": [
    {
     "data": {
      "text/plain": [
       "bytes_to_hex (generic function with 1 method)"
      ]
     },
     "execution_count": 5,
     "metadata": {},
     "output_type": "execute_result"
    }
   ],
   "source": [
    "function bytes_to_hex(b::Vector{UInt8})\n",
    "    hexbytes = map(x -> lpad(string(x, base=16), 2, '0'), b)\n",
    "    return join(hexbytes, \"\")\n",
    "end"
   ]
  },
  {
   "cell_type": "code",
   "execution_count": 7,
   "id": "36b62b3b-fb60-448f-be56-f1b745328ac5",
   "metadata": {},
   "outputs": [
    {
     "data": {
      "text/plain": [
       "hex_to_bytes (generic function with 1 method)"
      ]
     },
     "execution_count": 7,
     "metadata": {},
     "output_type": "execute_result"
    }
   ],
   "source": [
    "function hex_to_bytes(hexstr::AbstractString)\n",
    "    if length(hexstr) % 2 != 0\n",
    "        throw(ArgumentError(\"Длина hex-строки должна быть чётной\"))\n",
    "    end\n",
    "    return [parse(UInt8, hexstr[i:i+1], base=16) for i in 1:2:length(hexstr)]\n",
    "end\n"
   ]
  },
  {
   "cell_type": "code",
   "execution_count": 9,
   "id": "e37ca01a-41ce-4f92-9d6a-142c7df118f0",
   "metadata": {},
   "outputs": [
    {
     "name": "stdout",
     "output_type": "stream",
     "text": [
      "Введите текст, который нужно зашифровать:\n"
     ]
    },
    {
     "name": "stdin",
     "output_type": "stream",
     "text": [
      "stdin>  афыавыфаыфаож\n"
     ]
    },
    {
     "name": "stdout",
     "output_type": "stream",
     "text": [
      "Введите ключ для шифрования:\n"
     ]
    },
    {
     "name": "stdin",
     "output_type": "stream",
     "text": [
      "stdin>  афвыафафаыаожыфоаовыфа\n"
     ]
    },
    {
     "name": "stdout",
     "output_type": "stream",
     "text": [
      "\n",
      "Зашифрованный текст (hex): 000000000139013b0002000f01340134013b000f000000000000\n",
      "Дешифрованный текст: афыавыфаыфаож\n"
     ]
    }
   ],
   "source": [
    "println(\"Введите текст, который нужно зашифровать:\")\n",
    "plaintext = readline()\n",
    "\n",
    "println(\"Введите ключ для шифрования:\")\n",
    "key_str = readline()\n",
    "\n",
    "# Преобразуем в массивы байт\n",
    "pt_bytes = collect(codeunits(plaintext))\n",
    "key_bytes = collect(codeunits(key_str))\n",
    "\n",
    "# Шифрование\n",
    "cipher_bytes = encrypt_bytes(pt_bytes, key_bytes; repeat_key=true)\n",
    "cipher_hex = bytes_to_hex(cipher_bytes)\n",
    "\n",
    "println(\"\\nЗашифрованный текст (hex): $cipher_hex\")\n",
    "\n",
    "# Дешифрование (для проверки)\n",
    "dec_bytes = encrypt_bytes(cipher_bytes, key_bytes; repeat_key=true)\n",
    "recovered_text = String(dec_bytes)\n",
    "\n",
    "println(\"Дешифрованный текст: $recovered_text\")"
   ]
  },
  {
   "cell_type": "code",
   "execution_count": null,
   "id": "6672e151-1bbd-409a-aa25-354abd9c1a42",
   "metadata": {},
   "outputs": [],
   "source": []
  }
 ],
 "metadata": {
  "kernelspec": {
   "display_name": "Julia 1.11.7",
   "language": "julia",
   "name": "julia-1.11"
  },
  "language_info": {
   "file_extension": ".jl",
   "mimetype": "application/julia",
   "name": "julia",
   "version": "1.11.7"
  }
 },
 "nbformat": 4,
 "nbformat_minor": 5
}
