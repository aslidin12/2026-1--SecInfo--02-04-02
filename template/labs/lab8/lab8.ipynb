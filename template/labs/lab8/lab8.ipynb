{
 "cells": [
  {
   "cell_type": "code",
   "execution_count": 18,
   "id": "3c88a7c2-a933-4e26-8d3a-fda2481918ca",
   "metadata": {},
   "outputs": [
    {
     "name": "stdout",
     "output_type": "stream",
     "text": [
      "Сумма = [1, 1, 5, 8, 7, 6, 6] → 1158766\n"
     ]
    }
   ],
   "source": [
    "function add_bigint(u::Vector{Int}, v::Vector{Int}, b::Int)\n",
    "    n = max(length(u), length(v))\n",
    "    u = vcat(zeros(Int, n - length(u)), u)\n",
    "    v = vcat(zeros(Int, n - length(v)), v)\n",
    "    w = Vector{Int}(undef, n)\n",
    "    k = 0  # перенос (carry)\n",
    "    for j in n:-1:1\n",
    "        s = u[j] + v[j] + k\n",
    "        w[j] = s % b         # цифра в j-ом разряде\n",
    "        k = s ÷ b            # перенос\n",
    "    end\n",
    "    return k > 0 ? vcat([k], w) : w\n",
    "end\n",
    "b = 10\n",
    "u = [1, 7, 1, 1, 1, 2]  # число 171112\n",
    "v = [9, 8, 7, 6, 5, 4]  # число 987654\n",
    "result = add_bigint(u, v, b)\n",
    "println(\"Сумма = \", result, \" → \", join(result, \"\"))  # для красоты печатаем слитно"
   ]
  },
  {
   "cell_type": "code",
   "execution_count": 16,
   "id": "fb32f93a-e962-4917-804a-b6671e0a3de6",
   "metadata": {},
   "outputs": [
    {
     "name": "stdout",
     "output_type": "stream",
     "text": [
      "Разность = [5, 0, 0, 0, 0] → 50000\n"
     ]
    }
   ],
   "source": [
    "function sub_bigint(u::Vector{Int}, v::Vector{Int}, b::Int)\n",
    "    # 1. Выравниваем длины чисел (добавляем ведущие нули к v)\n",
    "    n = max(length(u), length(v))\n",
    "    u = vcat(zeros(Int, n - length(u)), u)\n",
    "    v = vcat(zeros(Int, n - length(v)), v)\n",
    "    w = Vector{Int}(undef, n)\n",
    "    k = 0  # заем (может быть -1, 0)\n",
    "    for j in n:-1:1\n",
    "        diff = u[j] - v[j] + k\n",
    "        if diff < 0\n",
    "            diff += b    # добавляем \"заем\" из старшего разряда\n",
    "            k = -1       # следующий разряд уменьшится на 1\n",
    "        else\n",
    "            k = 0\n",
    "        end\n",
    "        w[j] = diff\n",
    "    end\n",
    "    while length(w) > 1 && w[1] == 0\n",
    "        popfirst!(w)\n",
    "    end\n",
    "    return w\n",
    "end\n",
    "b = 10\n",
    "u = [1, 7, 1, 1, 1, 2]  # 171112\n",
    "v = [1, 2, 1, 1, 1, 2]  # 121112\n",
    "result = sub_bigint(u, v, b)\n",
    "println(\"Разность = \", result, \" → \", join(result, \"\"))  # для красоты печатаем слитно"
   ]
  },
  {
   "cell_type": "code",
   "execution_count": 20,
   "id": "9c4d75b7-3145-47a3-9037-35b2ea8f2b84",
   "metadata": {},
   "outputs": [
    {
     "name": "stdout",
     "output_type": "stream",
     "text": [
      "Результат: [0, 5, 5, 3, 5]\n"
     ]
    }
   ],
   "source": [
    "function multiply_column(u::Vector{Int}, v::Vector{Int}, b::Int)\n",
    "    m = length(u)\n",
    "    n = length(v)\n",
    "    w = zeros(Int, m + n)\n",
    "    for j = n:-1:1\n",
    "        if v[j] == 0\n",
    "            continue\n",
    "        end\n",
    "        K = 0  # перенос\n",
    "        for i = m:-1:1\n",
    "            t = u[i] * v[j] + w[i+j] + K\n",
    "            w[i+j] = t % b        # остаток от деления на основание\n",
    "            K = div(t, b)         # новый перенос\n",
    "        end\n",
    "        w[j] += K\n",
    "    end\n",
    "    return w\n",
    "end\n",
    "u = [1,2,3]  # 123\n",
    "v = [4,5]    # 45\n",
    "b = 10\n",
    "result = multiply_column(u, v, b)\n",
    "println(\"Результат: \", result)  # Должно вывести цифры числа 5535 ([5,5,3,5])"
   ]
  },
  {
   "cell_type": "code",
   "execution_count": 22,
   "id": "b16f3511-fc5e-47b5-a06f-18ee69b97c73",
   "metadata": {},
   "outputs": [
    {
     "name": "stdout",
     "output_type": "stream",
     "text": [
      "Результат: [5, 5, 3, 5]\n"
     ]
    }
   ],
   "source": [
    "function fast_column_multiply(u::Vector{Int}, v::Vector{Int}, b::Int)\n",
    "    m = length(u)\n",
    "    n = length(v)\n",
    "    w = zeros(Int, m + n)  # массив для результата\n",
    "    for j = n:-1:1\n",
    "        if v[j] == 0\n",
    "            continue\n",
    "        end\n",
    "        K = 0  # перенос\n",
    "        for i = m:-1:1\n",
    "            t = u[i] * v[j] + w[i+j] + K\n",
    "            w[i+j] = t % b\n",
    "            K = div(t, b)\n",
    "        end\n",
    "        w[j] += K  # добавляем остаток переноса\n",
    "    end\n",
    "    while length(w) > 1 && w[1] == 0\n",
    "        w = w[2:end]\n",
    "    end\n",
    "    return w\n",
    "end\n",
    "u = [1,2,3]  # число 123\n",
    "v = [4,5]    # число 45\n",
    "b = 10\n",
    "result = fast_column_multiply(u, v, b)\n",
    "println(\"Результат: \", result)  # [5,5,3,5] -> 5535"
   ]
  },
  {
   "cell_type": "code",
   "execution_count": 24,
   "id": "bf25efed-d9d0-465b-b57d-79051ff40735",
   "metadata": {},
   "outputs": [
    {
     "name": "stdout",
     "output_type": "stream",
     "text": [
      "Частное: [0, 1, 2]\n",
      "Остаток: [1, 1, 9, 0]\n"
     ]
    }
   ],
   "source": [
    "function long_division(u::Vector{Int}, v::Vector{Int}, b::Int)\n",
    "    m = length(u)\n",
    "    n = length(v)\n",
    "    q = zeros(Int, m - n + 1)\n",
    "    r = copy(u)\n",
    "    for i = m:-1:n\n",
    "        u_high = r[i-n+1:i]   # срез безопасен, длина n\n",
    "        u_num = 0\n",
    "        for d in u_high\n",
    "            u_num = u_num * b + d\n",
    "        end\n",
    "        v_num = 0\n",
    "        for d in v\n",
    "            v_num = v_num * b + d\n",
    "        end\n",
    "        qt = div(u_num, v_num)\n",
    "        qt = min(qt, b-1)  # не больше основания\n",
    "        carry = 0\n",
    "        for j = 1:n\n",
    "            idx = i - n + j\n",
    "            r[idx] -= qt * v[j] + carry\n",
    "            if r[idx] < 0\n",
    "                carry = div(-r[idx] + b - 1, b)\n",
    "                r[idx] += carry * b\n",
    "            else\n",
    "                carry = 0\n",
    "            end\n",
    "        end\n",
    "        while r[i-n+1] < 0\n",
    "            carry = 0\n",
    "            for j = 1:n\n",
    "                idx = i - n + j\n",
    "                r[idx] += v[j] + carry\n",
    "                if r[idx] >= b\n",
    "                    carry = div(r[idx], b)\n",
    "                    r[idx] %= b\n",
    "                else\n",
    "                    carry = 0\n",
    "                end\n",
    "            end\n",
    "            qt -= 1\n",
    "        end\n",
    "        q[i-n+1] = qt\n",
    "    end\n",
    "    return q, r\n",
    "end\n",
    "u = [1,2,3,4]  # делимое 1234\n",
    "v = [1,2]      # делитель 12\n",
    "b = 10\n",
    "q, r = long_division(u, v, b)\n",
    "println(\"Частное: \", q)\n",
    "println(\"Остаток: \", r)"
   ]
  },
  {
   "cell_type": "code",
   "execution_count": null,
   "id": "3ac3f32a-c9a4-4ebe-8528-ce5d20041865",
   "metadata": {},
   "outputs": [],
   "source": []
  }
 ],
 "metadata": {
  "kernelspec": {
   "display_name": "Julia 1.11.7",
   "language": "julia",
   "name": "julia-1.11"
  },
  "language_info": {
   "file_extension": ".jl",
   "mimetype": "application/julia",
   "name": "julia",
   "version": "1.11.7"
  }
 },
 "nbformat": 4,
 "nbformat_minor": 5
}
