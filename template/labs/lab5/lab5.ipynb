{
 "cells": [
  {
   "cell_type": "code",
   "execution_count": 13,
   "id": "8f4de239-6b14-4cc2-b298-f88e0ceee010",
   "metadata": {},
   "outputs": [
    {
     "name": "stdout",
     "output_type": "stream",
     "text": [
      "Тестируем числа 17, 21, 561 (псевдопростое):\n",
      "n = 17  ->  true\n",
      "n = 21  ->  false\n",
      "n = 561  ->  false\n"
     ]
    }
   ],
   "source": [
    "using Random\n",
    "function fermat_primality_test(n::Int; k::Int=5)\n",
    "    if n <= 1\n",
    "        return false\n",
    "    elseif n <= 3\n",
    "        return true\n",
    "    elseif iseven(n)\n",
    "        return false\n",
    "    end\n",
    "    for _ in 1:k\n",
    "        a = rand(2:n-2)   # случайное a из диапазона [2, n-2]\n",
    "        # проверяем условие Ферма: a^(n-1) mod n == 1\n",
    "        if powermod(a, n-1, n) != 1\n",
    "            return false  # точно составное\n",
    "        end\n",
    "    end\n",
    "    return true  # вероятно простое\n",
    "end\n",
    "println(\"Тестируем числа 17, 21, 561 (псевдопростое):\")\n",
    "for n in [17, 21, 561]\n",
    "    println(\"n = $n  ->  \", fermat_primality_test(n, k=10))\n",
    "end"
   ]
  },
  {
   "cell_type": "code",
   "execution_count": 15,
   "id": "c7361767-a8d9-4f13-bbd7-b21857834732",
   "metadata": {},
   "outputs": [
    {
     "name": "stdout",
     "output_type": "stream",
     "text": [
      "Символ Якоби (1001/9907) = -1\n",
      "Символ Якоби (5/21) = 1\n"
     ]
    }
   ],
   "source": [
    "function jacobi(a::Int, n::Int)\n",
    "    if n <= 0 || iseven(n)\n",
    "        error(\"n должно быть положительным и нечётным\")\n",
    "    end\n",
    "    a %= n\n",
    "    result = 1\n",
    "\n",
    "    while a != 0\n",
    "        # Шаг 1: вынесем все двойки из a\n",
    "        while iseven(a)\n",
    "            a ÷= 2\n",
    "            if n % 8 == 3 || n % 8 == 5\n",
    "                result = -result\n",
    "            end\n",
    "        end\n",
    "        a, n = n, a  # меняем местами\n",
    "        if a % 4 == 3 && n % 4 == 3\n",
    "            result = -result\n",
    "        end\n",
    "\n",
    "        a %= n\n",
    "    end\n",
    "    return n == 1 ? result : 0\n",
    "end\n",
    "println(\"Символ Якоби (1001/9907) = \", jacobi(1001, 9907))  # должно быть -1\n",
    "println(\"Символ Якоби (5/21) = \", jacobi(5, 21))          # должно быть 1\n"
   ]
  },
  {
   "cell_type": "code",
   "execution_count": 17,
   "id": "26b2d709-2448-4b99-ab24-4d41f5c610af",
   "metadata": {},
   "outputs": [
    {
     "name": "stdout",
     "output_type": "stream",
     "text": [
      "n = 17 (простое): false\n",
      "n = 21 (составное): false\n",
      "n = 561 (число Кармайкла): false\n"
     ]
    }
   ],
   "source": [
    "using Random\n",
    "function jacobi(a::Int, n::Int)\n",
    "    if n <= 0 || iseven(n)\n",
    "        error(\"n должно быть положительным и нечётным\")\n",
    "    end\n",
    "    a %= n\n",
    "    result = 1\n",
    "\n",
    "    while a != 0\n",
    "        while iseven(a)\n",
    "            a ÷= 2\n",
    "            if n % 8 == 3 || n % 8 == 5\n",
    "                result = -result\n",
    "            end\n",
    "        end\n",
    "\n",
    "        a, n = n, a\n",
    "        if a % 4 == 3 && n % 4 == 3\n",
    "            result = -result\n",
    "        end\n",
    "\n",
    "        a %= n\n",
    "    end\n",
    "\n",
    "    return n == 1 ? result : 0\n",
    "end\n",
    "function solovay_strassen(n::Int; k::Int=10)\n",
    "    if n < 2\n",
    "        return false\n",
    "    elseif n in (2, 3)\n",
    "        return true\n",
    "    elseif iseven(n)\n",
    "        return false\n",
    "    end\n",
    "\n",
    "    for _ in 1:k\n",
    "        a = rand(2:n-2)\n",
    "        x = powermod(a, (n - 1) ÷ 2, n)\n",
    "        j = jacobi(a, n) % n  # символ Якоби приводим к mod n\n",
    "\n",
    "        if x != j\n",
    "            return false  # точно составное\n",
    "        end\n",
    "    end\n",
    "    return true  # вероятно простое\n",
    "end\n",
    "println(\"n = 17 (простое): \", solovay_strassen(17, k=10))\n",
    "println(\"n = 21 (составное): \", solovay_strassen(21, k=10))\n",
    "println(\"n = 561 (число Кармайкла): \", solovay_strassen(561, k=10))\n"
   ]
  },
  {
   "cell_type": "code",
   "execution_count": 19,
   "id": "32bcf05e-09d3-4311-b9ee-349cf2d6fcb5",
   "metadata": {},
   "outputs": [
    {
     "name": "stdout",
     "output_type": "stream",
     "text": [
      "n = 17 (простое): true\n",
      "n = 21 (составное): false\n",
      "n = 561 (число Кармайкла): false\n"
     ]
    }
   ],
   "source": [
    "using Random\n",
    "function miller_rabin(n::Int; k::Int=10)\n",
    "    if n < 2\n",
    "        return false\n",
    "    elseif n in (2, 3)\n",
    "        return true\n",
    "    elseif iseven(n)\n",
    "        return false\n",
    "    end\n",
    "    # 1. Представляем n-1 как 2^s * d\n",
    "    d = n - 1\n",
    "    s = 0\n",
    "    while iseven(d)\n",
    "        d ÷= 2\n",
    "        s += 1\n",
    "    end\n",
    "    # 2. k случайных проверок\n",
    "    for _ in 1:k\n",
    "        a = rand(2:n-2)\n",
    "        x = powermod(a, d, n)\n",
    "\n",
    "        if x == 1 || x == n-1\n",
    "            continue\n",
    "        end\n",
    "        composite = true\n",
    "        for _ in 1:(s-1)\n",
    "            x = powermod(x, 2, n)\n",
    "            if x == n-1\n",
    "                composite = false\n",
    "                break\n",
    "            end\n",
    "        end\n",
    "        if composite\n",
    "            return false # составное число\n",
    "        end\n",
    "    end\n",
    "    return true # вероятно простое\n",
    "end\n",
    "println(\"n = 17 (простое): \", miller_rabin(17, k=10))\n",
    "println(\"n = 21 (составное): \", miller_rabin(21, k=10))\n",
    "println(\"n = 561 (число Кармайкла): \", miller_rabin(561, k=10))\n"
   ]
  },
  {
   "cell_type": "code",
   "execution_count": null,
   "id": "01db873c-f742-42cf-aeb6-4c2c2a3b5f9c",
   "metadata": {},
   "outputs": [],
   "source": []
  }
 ],
 "metadata": {
  "kernelspec": {
   "display_name": "Julia 1.11.7",
   "language": "julia",
   "name": "julia-1.11"
  },
  "language_info": {
   "file_extension": ".jl",
   "mimetype": "application/julia",
   "name": "julia",
   "version": "1.11.7"
  }
 },
 "nbformat": 4,
 "nbformat_minor": 5
}
