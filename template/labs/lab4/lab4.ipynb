{
 "cells": [
  {
   "cell_type": "code",
   "execution_count": 22,
   "id": "ba0d9387-9586-4743-90e7-977c49f00b3a",
   "metadata": {},
   "outputs": [
    {
     "name": "stdout",
     "output_type": "stream",
     "text": [
      "gcd_euclid(48, 18) = 6\n"
     ]
    }
   ],
   "source": [
    "# Классический алгоритм Евклида\n",
    "function gcd_euclid(a::Int, b::Int)\n",
    "    r0, r1 = a, b\n",
    "    while r1 != 0\n",
    "        r0, r1 = r1, r0 % r1\n",
    "    end\n",
    "    return r0\n",
    "end\n",
    "println(\"gcd_euclid(48, 18) = \", gcd_euclid(48, 18))"
   ]
  },
  {
   "cell_type": "code",
   "execution_count": 24,
   "id": "a406225b-a300-47a9-9b5a-730193159ec8",
   "metadata": {},
   "outputs": [
    {
     "name": "stdout",
     "output_type": "stream",
     "text": [
      "gcd_binary(48, 18) = 18\n"
     ]
    }
   ],
   "source": [
    "function gcd_binary(a::Int, b::Int)\n",
    "    if a == 0\n",
    "        return b\n",
    "    elseif b == 0\n",
    "        return a\n",
    "    end\n",
    "    shift = 0\n",
    "    # Убираем общие факторы 2\n",
    "    while (a & 1 == 0) && (b & 1 == 0)\n",
    "        a >>= 1\n",
    "        b >>= 1\n",
    "        shift += 1\n",
    "    end\n",
    "    # Делим a на 2 пока оно чётное\n",
    "    while (a & 1) == 0\n",
    "        a >>= 1\n",
    "    end\n",
    "    while b != 0\n",
    "        # Делим b на 2 пока оно чётное\n",
    "        while (b & 1) == 0\n",
    "            b >>= 1\n",
    "        end\n",
    "        # Обеспечиваем a <= b\n",
    "        if a > b\n",
    "            a, b = b, a\n",
    "        end\n",
    "        b -= a\n",
    "    end\n",
    "    return a << shift\n",
    "end\n",
    "println(\"gcd_binary(48, 18) = \", gcd_binary(108, 18))"
   ]
  },
  {
   "cell_type": "code",
   "execution_count": 26,
   "id": "25efed9e-706f-415b-a4c2-4361db99d94e",
   "metadata": {},
   "outputs": [
    {
     "name": "stdout",
     "output_type": "stream",
     "text": [
      "Расширенный алгоритм Евклида:\n",
      "gcd(12, 244) = 4, x = -20, y = 1  =>  12*-20 + 244*1 = 4\n"
     ]
    }
   ],
   "source": [
    "# 1. Расширенный алгоритм Евклида\n",
    "function extended_euclid(a::Int, b::Int)\n",
    "    r0, r1 = a, b\n",
    "    x0, x1 = 1, 0\n",
    "    y0, y1 = 0, 1\n",
    "\n",
    "    while r1 != 0\n",
    "        q = r0 ÷ r1\n",
    "        r0, r1 = r1, r0 - q * r1\n",
    "        x0, x1 = x1, x0 - q * x1\n",
    "        y0, y1 = y1, y0 - q * y1\n",
    "    end\n",
    "\n",
    "    return r0, x0, y0  # gcd, x, y\n",
    "end\n",
    "a, b = 12, 244\n",
    "println(\"Расширенный алгоритм Евклида:\")\n",
    "g, x, y = extended_euclid(a, b)\n",
    "println(\"gcd($a, $b) = $g, x = $x, y = $y  =>  $a*$x + $b*$y = $(a*x + b*y)\")"
   ]
  },
  {
   "cell_type": "code",
   "execution_count": 28,
   "id": "f357bff4-078d-4791-abd1-3c2d6165a7d7",
   "metadata": {},
   "outputs": [
    {
     "name": "stdout",
     "output_type": "stream",
     "text": [
      "\n",
      "Расширенный бинарный алгоритм Евклида:\n",
      "gcd(9, 108) = 9, x = 13, y = -1  =>  9*13 + 108*-1 = 9\n"
     ]
    }
   ],
   "source": [
    "function extended_binary_euclid(a::Int, b::Int)\n",
    "    if a == 0\n",
    "        return b, 0, 1\n",
    "    elseif b == 0\n",
    "        return a, 1, 0\n",
    "    end\n",
    "    g = 1\n",
    "    # Убираем общие факторы 2\n",
    "    while (a & 1 == 0) && (b & 1 == 0)\n",
    "        a >>= 1\n",
    "        b >>= 1\n",
    "        g <<= 1\n",
    "    end\n",
    "    u, v = a, b\n",
    "    A, B = 1, 0\n",
    "    C, D = 0, 1\n",
    "    while u != 0\n",
    "        # Делим u на 2 пока оно четное\n",
    "        while (u & 1) == 0\n",
    "            u >>= 1\n",
    "            if (A & 1 == 0) && (B & 1 == 0)\n",
    "                A >>= 1\n",
    "                B >>= 1\n",
    "            else\n",
    "                A = (A + b) >> 1\n",
    "                B = (B - a) >> 1\n",
    "            end\n",
    "        end\n",
    "        # Делим v на 2 пока оно четное      \n",
    "        while (v & 1) == 0\n",
    "            v >>= 1\n",
    "            if (C & 1 == 0) && (D & 1 == 0)\n",
    "                C >>= 1\n",
    "                D >>= 1\n",
    "            else\n",
    "                C = (C + b) >> 1\n",
    "                D = (D - a) >> 1\n",
    "            end\n",
    "        end\n",
    "        if u >= v\n",
    "            u -= v\n",
    "            A -= C\n",
    "            B -= D\n",
    "        else\n",
    "            v -= u\n",
    "            C -= A\n",
    "            D -= B\n",
    "        end\n",
    "    end\n",
    "    gcd = v * g\n",
    "    x = C\n",
    "    y = D\n",
    "    return gcd, x, y\n",
    "end\n",
    "a, b = 9, 108\n",
    "println(\"\\nРасширенный бинарный алгоритм Евклида:\")\n",
    "g2, x2, y2 = extended_binary_euclid(a, b)\n",
    "println(\"gcd($a, $b) = $g2, x = $x2, y = $y2  =>  $a*$x2 + $b*$y2 = $(a*x2 + b*y2)\")"
   ]
  },
  {
   "cell_type": "code",
   "execution_count": null,
   "id": "c62118f6-4acf-4212-96ea-8cef7b7198a6",
   "metadata": {},
   "outputs": [],
   "source": []
  }
 ],
 "metadata": {
  "kernelspec": {
   "display_name": "Julia 1.11.7",
   "language": "julia",
   "name": "julia-1.11"
  },
  "language_info": {
   "file_extension": ".jl",
   "mimetype": "application/julia",
   "name": "julia",
   "version": "1.11.7"
  }
 },
 "nbformat": 4,
 "nbformat_minor": 5
}
