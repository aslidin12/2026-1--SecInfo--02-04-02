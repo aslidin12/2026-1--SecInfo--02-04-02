{
 "cells": [
  {
   "cell_type": "code",
   "execution_count": 5,
   "id": "7026ccd6-0f2c-42aa-b2e0-06a771fc99f5",
   "metadata": {},
   "outputs": [
    {
     "name": "stdout",
     "output_type": "stream",
     "text": [
      "Факторизация 18 при помощи Pollard's Rho:\n",
      "Найден делитель d = 2, второй = 9\n"
     ]
    }
   ],
   "source": [
    "using Random\n",
    "function pollard_rho(n::Int; c::Int=1, max_iter::Int=10^6)\n",
    "    if n % 2 == 0\n",
    "        return 2\n",
    "    end\n",
    "    f(x) = (x * x + c) % n\n",
    "    x, y, d = 2, 2, 1\n",
    "    for _ in 1:max_iter\n",
    "        x = f(x)\n",
    "        y = f(f(y))\n",
    "        d = gcd(abs(x - y), n)\n",
    "        if d == n\n",
    "            return n  # неудача, стоит попробовать другое c\n",
    "        elseif d > 1\n",
    "            return d  # найден делитель\n",
    "        end\n",
    "    end\n",
    "    return n  # ничего не нашли в пределах max_iter\n",
    "end\n",
    "n = 18\n",
    "println(\"Факторизация $n при помощи Pollard's Rho:\")\n",
    "d = pollard_rho(n, c=1)\n",
    "if d != n\n",
    "    println(\"Найден делитель d = $d, второй = $(n ÷ d)\")\n",
    "else\n",
    "    println(\"Не удалось найти делитель, попробуйте другой c\")\n",
    "end"
   ]
  },
  {
   "cell_type": "code",
   "execution_count": 11,
   "id": "51eb13ed-a236-44d3-93da-acffaa5e83a2",
   "metadata": {},
   "outputs": [
    {
     "name": "stdout",
     "output_type": "stream",
     "text": [
      "Факторизация числа 1359331 методом Ферма: 1151 × 1181\n"
     ]
    }
   ],
   "source": [
    "using Printf\n",
    "function fermat_factor(n::Int)\n",
    "    if n % 2 == 0\n",
    "        return (2, n ÷ 2)\n",
    "    end\n",
    "    x = ceil(Int, sqrt(n))\n",
    "    y2 = x*x - n\n",
    "    while true\n",
    "        y = isqrt(y2)\n",
    "        if y*y == y2\n",
    "            return (x - y, x + y)\n",
    "        end\n",
    "        x += 1\n",
    "        y2 = x*x - n\n",
    "    end\n",
    "end\n",
    "n = 1359331\n",
    "p, q = fermat_factor(n)\n",
    "@printf(\"Факторизация числа %d методом Ферма: %d × %d\\n\", n, p, q)\n"
   ]
  },
  {
   "cell_type": "code",
   "execution_count": null,
   "id": "1217b91b-b911-497e-8ed8-e89a82912797",
   "metadata": {},
   "outputs": [],
   "source": []
  }
 ],
 "metadata": {
  "kernelspec": {
   "display_name": "Julia 1.11.7",
   "language": "julia",
   "name": "julia-1.11"
  },
  "language_info": {
   "file_extension": ".jl",
   "mimetype": "application/julia",
   "name": "julia",
   "version": "1.11.7"
  }
 },
 "nbformat": 4,
 "nbformat_minor": 5
}
